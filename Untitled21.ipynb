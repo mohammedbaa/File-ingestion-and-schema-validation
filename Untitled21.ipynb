{
  "nbformat": 4,
  "nbformat_minor": 0,
  "metadata": {
    "colab": {
      "provenance": []
    },
    "kernelspec": {
      "name": "python3",
      "display_name": "Python 3"
    },
    "language_info": {
      "name": "python"
    }
  },
  "cells": [
    {
      "cell_type": "code",
      "source": [
        "#========================================================\n",
        "from google.colab import drive\n",
        "drive.mount('/content/drive')"
      ],
      "metadata": {
        "colab": {
          "base_uri": "https://localhost:8080/"
        },
        "id": "obGCKLd208tZ",
        "outputId": "8e1dfd9a-6d4d-464a-cd8e-b4dfb3c1f2af"
      },
      "execution_count": 16,
      "outputs": [
        {
          "output_type": "stream",
          "name": "stdout",
          "text": [
            "Drive already mounted at /content/drive; to attempt to forcibly remount, call drive.mount(\"/content/drive\", force_remount=True).\n"
          ]
        }
      ]
    },
    {
      "cell_type": "code",
      "execution_count": 17,
      "metadata": {
        "colab": {
          "base_uri": "https://localhost:8080/"
        },
        "id": "zwtsIadX02Nc",
        "outputId": "be7c4f6e-0b01-4b77-9cf8-677efb66702d"
      },
      "outputs": [
        {
          "output_type": "stream",
          "name": "stdout",
          "text": [
            "Pandas reading time: 46.582051038742065 seconds\n"
          ]
        }
      ],
      "source": [
        "import pandas as pd\n",
        "import time\n",
        "\n",
        "start_time = time.time()\n",
        "df_pandas = pd.read_csv('/content/drive/MyDrive/Rate.csv')\n",
        "end_time = time.time()\n",
        "pandas_time = end_time - start_time\n",
        "print(\"Pandas reading time:\", pandas_time, \"seconds\")\n"
      ]
    },
    {
      "cell_type": "code",
      "source": [
        "import dask.dataframe as dd\n",
        "\n",
        "start_time = time.time()\n",
        "df_dask = dd.read_csv('/content/drive/MyDrive/Rate.csv')\n",
        "end_time = time.time()\n",
        "dask_time = end_time - start_time\n",
        "print(\"Dask reading time:\", dask_time, \"seconds\")\n"
      ],
      "metadata": {
        "colab": {
          "base_uri": "https://localhost:8080/"
        },
        "id": "v0c4lfVq1NfI",
        "outputId": "b9cc6309-168b-4d39-a44e-4242e9cca49a"
      },
      "execution_count": 18,
      "outputs": [
        {
          "output_type": "stream",
          "name": "stdout",
          "text": [
            "Dask reading time: 0.09955811500549316 seconds\n"
          ]
        }
      ]
    },
    {
      "cell_type": "code",
      "source": [
        "df_pandas.columns = df_pandas.columns.str.replace('[^\\w\\s]', '').str.strip()\n",
        "df_dask.columns = df_dask.columns.str.replace('[^\\w\\s]', '').str.strip()"
      ],
      "metadata": {
        "id": "A5bzyuhV2MOy"
      },
      "execution_count": 19,
      "outputs": []
    },
    {
      "cell_type": "code",
      "source": [
        "%%writefile Mohammad.yaml\n",
        "file_type: csv\n",
        "dataset_name: file\n",
        "file_name: Rate\n",
        "table_name: edsurv\n",
        "inbound_delimiter: \",\"\n",
        "outbound_delimiter: \"|\"\n",
        "skip_leading_rows: 1\n",
        "columns:\n",
        "    - BusinessYear\n",
        "      - StateCode\n",
        "      - IssuerId\n",
        "      - SourceName\n",
        "      - VersionNum\n",
        "      - ImportDate\n",
        "      - IssuerId2\n",
        "      - FederalTIN\n",
        "      - RateEffectiveDate\n",
        "      - RateExpirationDate\n",
        "      - PlanId\n",
        "      - RatingAreaId\n",
        "      - Tobacco\n",
        "      - Age\n",
        "      - IndividualRate\n",
        "      - IndividualTobaccoRate\n",
        "      - Couple\n",
        "      - PrimarySubscriberAndOneDependent\n",
        "      - PrimarySubscriberAndTwoDependents\n",
        "      - PrimarySubscriberAndThreeOrMoreDependents\n",
        "      - CoupleAndOneDependent\n",
        "      - CoupleAndTwoDependents\n",
        "      - CoupleAndThreeOrMoreDependents\n",
        "      - RowNumber"
      ],
      "metadata": {
        "colab": {
          "base_uri": "https://localhost:8080/"
        },
        "id": "CKY48k283Qys",
        "outputId": "0523d0de-0c10-4e7e-e126-16bb711c08ee"
      },
      "execution_count": 20,
      "outputs": [
        {
          "output_type": "stream",
          "name": "stdout",
          "text": [
            "Overwriting Mohammad.yaml\n"
          ]
        }
      ]
    },
    {
      "cell_type": "code",
      "source": [
        "expected_columns = [\n",
        "    'BusinessYear', 'StateCode', 'IssuerId', 'SourceName', 'VersionNum',\n",
        "    'ImportDate', 'IssuerId2', 'FederalTIN', 'RateEffectiveDate',\n",
        "    'RateExpirationDate', 'PlanId', 'RatingAreaId', 'Tobacco', 'Age',\n",
        "    'IndividualRate', 'IndividualTobaccoRate', 'Couple',\n",
        "    'PrimarySubscriberAndOneDependent', 'PrimarySubscriberAndTwoDependents',\n",
        "    'PrimarySubscriberAndThreeOrMoreDependents', 'CoupleAndOneDependent',\n",
        "    'CoupleAndTwoDependents', 'CoupleAndThreeOrMoreDependents',\n",
        "    'RowNumber'\n",
        "]\n",
        "\n",
        "assert set(df_pandas.columns) == set(expected_columns), \"Columns mismatch with YAML file\""
      ],
      "metadata": {
        "id": "K5S9PCvp482a"
      },
      "execution_count": 21,
      "outputs": []
    },
    {
      "cell_type": "code",
      "source": [
        "df_pandas.to_csv('Rate_pandas.txt.gz', sep='|', compression='gzip', index=False)"
      ],
      "metadata": {
        "id": "HiMndTXY3c4U"
      },
      "execution_count": 22,
      "outputs": []
    },
    {
      "cell_type": "code",
      "source": [
        "import os\n",
        "total_rows = len(df_pandas)\n",
        "total_columns = len(df_pandas.columns)\n",
        "file_size = os.path.getsize('Rate_pandas.txt.gz')\n",
        "\n",
        "print(\"Total number of rows:\", total_rows)\n",
        "print(\"Total number of columns:\", total_columns)\n",
        "print(\"File size:\", file_size, \"bytes\")"
      ],
      "metadata": {
        "colab": {
          "base_uri": "https://localhost:8080/"
        },
        "id": "C96zqVQI4g0U",
        "outputId": "c11a4e08-52d4-45ce-8a23-c5ac5e7507c0"
      },
      "execution_count": 23,
      "outputs": [
        {
          "output_type": "stream",
          "name": "stdout",
          "text": [
            "Total number of rows: 12694445\n",
            "Total number of columns: 24\n",
            "File size: 107965330 bytes\n"
          ]
        }
      ]
    }
  ]
}